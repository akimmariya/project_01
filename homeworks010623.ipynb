{
  "nbformat": 4,
  "nbformat_minor": 0,
  "metadata": {
    "colab": {
      "provenance": []
    },
    "kernelspec": {
      "name": "python3",
      "display_name": "Python 3"
    },
    "language_info": {
      "name": "python"
    }
  },
  "cells": [
    {
      "cell_type": "markdown",
      "source": [
        "# Level 1\n",
        "## Task 1.1"
      ],
      "metadata": {
        "id": "k3Q_oWWa_0Qi"
      }
    },
    {
      "cell_type": "code",
      "source": [
        "# Задача 1.1.\n",
        "\n",
        "# Есть строка с перечислением песен\n",
        "\n",
        "my_favorite_songs = 'Waste a Moment, Staying\\' Alive, A Sorta Fairytale, Start Me Up, New Salvation'\n",
        "\n",
        "# Выведите на консоль с помощью индексации строки, последовательно: первый трек, последний, второй, второй с конца\n",
        "# Нельзя переопределять my_favorite_songs и запятая не должна выводиться.\n",
        "print (\"первый трек -\", my_favorite_songs [:14])\n",
        "\n",
        "print (\"последний трек - \",my_favorite_songs [-13:])\n",
        "print (\"второй трек - \",my_favorite_songs [16:30])\n",
        "print (\"второй с конца трек - \",my_favorite_songs [-26:-15])"
      ],
      "metadata": {
        "colab": {
          "base_uri": "https://localhost:8080/"
        },
        "id": "IB_fbVCTAG2h",
        "outputId": "a2b6c702-9e92-43e1-9ee8-bb64b938c81f"
      },
      "execution_count": 25,
      "outputs": [
        {
          "output_type": "stream",
          "name": "stdout",
          "text": [
            "первый трек - Waste a Moment\n",
            "последний трек -  New Salvation\n",
            "второй трек -  Staying' Alive\n",
            "второй с конца трек -  Start Me Up\n"
          ]
        }
      ]
    },
    {
      "cell_type": "markdown",
      "source": [],
      "metadata": {
        "id": "3vD2109H_zxC"
      }
    }
  ]
}